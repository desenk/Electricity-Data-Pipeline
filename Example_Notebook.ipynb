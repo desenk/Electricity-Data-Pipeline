{
 "cells": [
  {
   "cell_type": "markdown",
   "metadata": {},
   "source": [
    "__________________________\n",
    "#### _...Before we start..._\n",
    "##### _1. Check that you have the required packages_\n",
    "Please ensure you have `Python 3` and the listed items in the `requirements.txt` installed.\n",
    "##### _2. Get and check your API key_\n",
    "Please ensure that you have an API key from Elexon\n",
    "1. Register [here](https://www.elexonportal.co.uk/registration/newuser?cachebust=3apx5qnzf9) \n",
    "> Click on `sign-in` (top RHS)  ->  `register`\n",
    "2. Follow the instructions [here](https://www.elexon.co.uk/documents/training-guidance/bsc-guidance-notes/bmrs-api-and-data-push-user-guide-2/)\n",
    "> Log-in -> Click on `my profile` -> Copy the `scripting key`\n",
    "3. Paste the API Key in the `api_key.txt` file\n",
    "4. Check that your API Key is saved correctly\n",
    "__________________________"
   ]
  },
  {
   "cell_type": "markdown",
   "metadata": {},
   "source": [
    "# `Electricity-Data-Pipeline` Examples"
   ]
  },
  {
   "cell_type": "markdown",
   "metadata": {},
   "source": [
    "## 1. Import the `Electricity-Data-Pipeline` functions"
   ]
  },
  {
   "cell_type": "code",
   "execution_count": 4,
   "metadata": {},
   "outputs": [],
   "source": [
    "from src.helpers.BMRS_helpers import *\n",
    "from src.helper.range_import_helpers import *"
   ]
  },
  {
   "cell_type": "markdown",
   "metadata": {},
   "source": [
    "Below is a list of all the `<Electricity-Data-Pipeline>` functions defined so far:\n",
    "\n",
    "_**Table 1:** List of the quick BMRS helper functions_\n",
    "\n",
    "`Electricity-Data-Pipeline` Quick Functions | Description | Resolution | Inputs \n",
    "------------ | ------------- | ------------ | ------------\n",
    "**`demand()`** | Rolling System Demand | 5 min | demand(start_date = 'YYYY-MM-DD', end_date = 'YYYY-MM-DD', save_to_csv = False)\n",
    "**`temperature()`** | Average Daily Temperature in Britain | Daily  | \"\n",
    "**`generation()`** | Half-hourly Generation by Fuel Type | Halfhourly (30 min) | \"\n",
    "**`frequency()`** | System Frequency | 15 sec | \"\n",
    "**`initial_demand_national()`** | Initial National Demand Out-turn | Halfhourly (30 min) | \"\n",
    "**`initial_demand_transmission()`** | Initial Transmission System Demand Out-turn | Halfhourly (30 min) | \"\n",
    "**`demand_forecast_national()`** | National Demand Forecast | Halfhourly (30 min) | \"\n",
    "**`demand_forecast_transmission()`** | Transmission System Demand Forecast | Halfhourly (30 min) | \"\n",
    "**`imbalance_volume()`** | Imbalance Volume | Halfhourly (30 min) | \"\n",
    "**`loss_of_load()`** | Loss of Load and De-rated Margin | Halfhourly (30 min) | \"\n",
    "**`imbalance_price()`** | Imbalance Price | Halfhourly (30 min) | \"\n",
    "**`extract_data()`** | Uses BMRS data label and tries different methods | depends on dataset of choice | extract_data(report_name = 'TEMP', start_date = 'YYYY-MM-DD', end_date = 'YYYY-MM-DD', save_to_csv = True)\n",
    "\n",
    "_______________________________________________\n",
    "\n",
    "\n",
    "_**Table 2:** List of the data extractions functions for a week or longer periods._\n",
    "\n",
    "`Electricity-Data-Pipeline` Function for Weekly/Long-term Imports | Description | Range | Inputs \n",
    "------------ | ------------- | ------------ | ------------\n",
    "**`extract_data_weekly()`** | Extracts data for a week from the start_date using the function names from the table above| Fixed - Weekly | extract_data_weekly(func_name = demand , start_date = 'YYYY-MM-DD', save_to_csv = True)\n",
    "**`extract_data_range()`** | Extracts data for long timeframes | Variable  | extract_data_range(func_name = temperature, start_date = 'YYYY-MM-DD', end_date =  'YYYY-MM-DD', save_to_csv = False)\n",
    "**`data_extract_range_with_BMRS_label()`** | Same as above but using BMRS report names rather than the function names from the table above | Variable | data_extract_range_with_BMRS_label(report_name = 'TEMP', start_date = 'YYYY-MM-DD', end_date =  'YYYY-MM-DD', save_to_csv = False)\n",
    "\n",
    "Please note that the defined functions in , there is a function called extract_data() that deals directly with the BMRS data labels.\n",
    "(e.g. 'ROLSYSDEM' which is programmed into the demand() helper function in this project.)\n",
    "Please note that all of these functions are intended for short timeframes.\n",
    "Please see the other examples for use in longer timeframes.\n"
   ]
  },
  {
   "cell_type": "code",
   "execution_count": 3,
   "metadata": {},
   "outputs": [
    {
     "data": {
      "text/plain": [
       "'7c5n8wh6x7k7f2a'"
      ]
     },
     "execution_count": 3,
     "metadata": {},
     "output_type": "execute_result"
    }
   ],
   "source": [
    "get_APIKey() #prints your Elexon BMRS API Key"
   ]
  },
  {
   "cell_type": "markdown",
   "metadata": {},
   "source": [
    "## 2. Inputs"
   ]
  },
  {
   "cell_type": "markdown",
   "metadata": {},
   "source": [
    "Here, we demonstrate the helper functions used for short-term data import (using BMRS as a source).\n",
    "Please note that these functions are subject to capping and time-out limits imposed by the data provider. Please look further for other examples that try to overcome this."
   ]
  },
  {
   "cell_type": "code",
   "execution_count": null,
   "metadata": {},
   "outputs": [],
   "source": []
  },
  {
   "cell_type": "markdown",
   "metadata": {},
   "source": [
    "|- 1_DEMAND:\n",
    "|  |- ROLSYSDEM - Rolling System Demand (March 2020, 5 minute resolution)\n",
    "|  |- TEMP - Average Daily Temperature in Britain (March 2020, daily resolution)\n",
    "|- 2_GENERATION:\n",
    "|  |- FUELHH - Halfhourly Generation by Fuel Type (March 2019 and March 2020, halfhourly resolution) \n",
    "|- 3_FORECAST AND GRID STABILITY:\n",
    "|  |- 3_1_FREQUENCY:\n",
    "|  |  |- FREQ - (System) Frequency (March 2020, 15 second resolution)\n",
    "|  |- 3_2_LOAD FORECAST ERROR:\n",
    "|  |  |- INDO - Initial Demand Out-turn (March 2019 and March 2020, halfhourly resolution)\n",
    "|  |  |- ITSDO - Initial Transmission System Demand Out-turn (March 2019 and March 2020, halfhourly resolution)\n",
    "|  |  |- NDF - National Demand Forecast (March 2019 and March 2020, halfhourly resolution)\n",
    "|  |  |- TSDF - Transmission System Demand Forecast (March 2019 and March 2020, halfhourly resolution)\n",
    "|  |- 3_3_IMBALANCE VOLUME\n",
    "|  |  |- IMBALANCE VOLUME (March 2020, halfhourly resolution)\n",
    "|  |  |- ACTUAL LOAD (March 2019 and March 2020, halfhourly resolution)\n",
    "|  |- 3_4_LOSS OF LOAD\n",
    "|     |- LOLPDRM - Loss of Load Probability and De-rated Margin (March 2020, halfhourly resolution)\n",
    "|- 4_PRICING\n",
    "   |- 4_2_IMBALANCE PRICE\n",
    "   |  |- IMBALANCE PRICE (March 2020, halfhourly resolution)\n",
    "   |- 4_3_VARIABLE DOMESTIC TARIFF\n",
    "   |  |- OCTOPUS AGILE TARIFF BUY PRICES (March 2020, halfhourly resolution)\n",
    "   |  |- OCTOPUS AGILE TARIFF SELL PRICES (March 2020, halfhourly resolution)"
   ]
  },
  {
   "cell_type": "code",
   "execution_count": null,
   "metadata": {},
   "outputs": [],
   "source": [
    "demand()\n",
    "temperature()\n",
    "generation()\n",
    "frequency()\n",
    "loss_of_load()\n",
    "initial_demand_national()\n",
    "initial_demand_transmission()\n",
    "demand_forecast_national()\n",
    "demand_forecast_transmission()\n",
    "imbalance_volume()\n",
    "imbalance_price()"
   ]
  }
 ],
 "metadata": {
  "kernelspec": {
   "display_name": "Python 3",
   "language": "python",
   "name": "python3"
  },
  "language_info": {
   "codemirror_mode": {
    "name": "ipython",
    "version": 3
   },
   "file_extension": ".py",
   "mimetype": "text/x-python",
   "name": "python",
   "nbconvert_exporter": "python",
   "pygments_lexer": "ipython3",
   "version": "3.7.6"
  }
 },
 "nbformat": 4,
 "nbformat_minor": 4
}
